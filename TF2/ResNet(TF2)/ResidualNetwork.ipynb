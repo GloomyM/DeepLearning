{
 "cells": [
  {
   "cell_type": "code",
   "execution_count": null,
   "metadata": {},
   "outputs": [],
   "source": [
    "import tensorflow as tf"
   ]
  },
  {
   "cell_type": "code",
   "execution_count": null,
   "metadata": {},
   "outputs": [],
   "source": [
    "class ResidualBlock(tf.keras.layers.Layer):\n",
    "    def __init__(self, filter_num, stride = 1):\n",
    "        super(ResidualBlock, self).__init__()\n",
    "        # 残差块的第一层\n",
    "        self.conv1 = tf.keras.layers.Conv2D(filters=filter_num, kernel_size=3, strides=stride, padding='same')\n",
    "        self.batch1 = tf.keras.layers.BatchNormalization()\n",
    "        self.activation1 = tf.keras.layers.Activation('relu')\n",
    "\n",
    "        # 残差块的第二层\n",
    "        self.conv2 = tf.keras.layers.Conv2D(filters=filter_num, kernel_size=3, strides=1, padding='same')\n",
    "        self.batch2 = tf.keras.layers.BatchNormalization()\n",
    "\n",
    "        # 判断是否包含downsample\n",
    "        self.downsample = tf.keras.Sequential([tf.keras.layers.Conv2D(filters=filter_num, kernel_size=1, strides=stride)]) if stride != 1 else lambda x : x\n",
    "    \n",
    "\n",
    "    def call(self, x, training = None):\n",
    "        output = self.conv1(x)\n",
    "        output = self.batch1(output, training = training)\n",
    "        output = self.activation1(output)\n",
    "        output = self.conv2(output)\n",
    "        output = self.batch2(output, training = training)\n",
    "        identity = self.downsample(x)\n",
    "        return tf.nn.relu(tf.keras.layers.add([output, identity]))\n",
    "\n",
    "\n",
    "class ResidualNetwork(tf.keras.Model):\n",
    "    def __init__(self, layers, num_classifies):\n",
    "        super(ResidualNetwork, self).__init__()\n",
    "        self.first = tf.keras.Sequential([\n",
    "            tf.keras.layers.Conv2D(filters=64,kernel_size=3, strides=1, input_shape=(28, 28, 1)),\n",
    "            tf.keras.layers.BatchNormalization(),\n",
    "            tf.keras.layers.Activation('relu'),\n",
    "            tf.keras.layers.MaxPool2D(pool_size=2, strides=1, padding='same'),\n",
    "        ])\n",
    "        self.reslayers = [self.rbuild(64, layers[0]),\n",
    "        self.rbuild(128, layers[1], stride=2), #从第二组残差块开始，每一组残差块的第一个残差块存在downsample\n",
    "        self.rbuild(256, layers[2], stride=2),\n",
    "        self.rbuild(512, layers[3], stride=2)]\n",
    "        self.opt = tf.keras.layers.Dense(num_classifies, activation='softmax')\n",
    "\n",
    "    def call(self, x, training = None):\n",
    "        x = self.first(x, training = training)\n",
    "        for i in range(len(self.reslayers)):\n",
    "            x = self.reslayers[i](x, training = training)\n",
    "        x = tf.keras.layers.GlobalAveragePooling2D()(x)\n",
    "        return self.opt(x)\n",
    "\n",
    "    def rbuild(self, filter_num, blocks, stride = 1):\n",
    "        resBlock = tf.keras.Sequential(ResidualBlock(filter_num, stride))\n",
    "        for i in range(blocks - 1):\n",
    "            resBlock.add(ResidualBlock(filter_num, stride=1))\n",
    "        return resBlock\n"
   ]
  },
  {
   "cell_type": "code",
   "execution_count": null,
   "metadata": {},
   "outputs": [],
   "source": [
    "resNet18 = ResidualNetwork([2,2,2,2], 10)\n",
    "resNet18.compile(optimizer='adam', loss=\"sparse_categorical_crossentropy\",metrics=['accuracy'])"
   ]
  },
  {
   "cell_type": "code",
   "execution_count": null,
   "metadata": {},
   "outputs": [],
   "source": [
    "data = tf.keras.datasets.mnist\n",
    "(x_train, y_train), (x_test, y_test) = data.load_data()"
   ]
  },
  {
   "cell_type": "code",
   "execution_count": null,
   "metadata": {},
   "outputs": [],
   "source": [
    "resNet18.fit(x_train, y_train,batch_size=64, epochs=5)"
   ]
  },
  {
   "cell_type": "code",
   "execution_count": null,
   "metadata": {},
   "outputs": [],
   "source": [
    "resNet18.evaluate(x_test, y_test)"
   ]
  },
  {
   "cell_type": "code",
   "execution_count": null,
   "metadata": {},
   "outputs": [],
   "source": [
    "resNet18.summary()"
   ]
  },
  {
   "cell_type": "code",
   "execution_count": null,
   "metadata": {},
   "outputs": [],
   "source": []
  }
 ],
 "metadata": {
  "interpreter": {
   "hash": "6b671ac3065736559540f6dc201cc1625e81f27220913c9557fbf21ca8bb9325"
  },
  "kernelspec": {
   "display_name": "Python 3.9.12 ('base')",
   "language": "python",
   "name": "python3"
  },
  "language_info": {
   "codemirror_mode": {
    "name": "ipython",
    "version": 3
   },
   "file_extension": ".py",
   "mimetype": "text/x-python",
   "name": "python",
   "nbconvert_exporter": "python",
   "pygments_lexer": "ipython3",
   "version": "3.9.12"
  },
  "orig_nbformat": 4
 },
 "nbformat": 4,
 "nbformat_minor": 2
}
