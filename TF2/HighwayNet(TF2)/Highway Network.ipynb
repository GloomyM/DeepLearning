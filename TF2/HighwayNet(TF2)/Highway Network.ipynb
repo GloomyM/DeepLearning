{
 "cells": [
  {
   "cell_type": "markdown",
   "id": "911e45bc",
   "metadata": {},
   "source": [
    "# Highway Network实现手写数字识别"
   ]
  },
  {
   "cell_type": "markdown",
   "id": "7a2e6d52",
   "metadata": {},
   "source": [
    "**根据论文中的描述，highway network实际上就是一层特殊的网络，与普通神经网络不同，可以理解为在一层神经网络中利用两个激活函数最后输出。**"
   ]
  },
  {
   "cell_type": "markdown",
   "id": "b9ab38c1",
   "metadata": {},
   "source": [
    "对于普通的神经网络来说，每层的输出可以表示为(H表示激活函数，W_H表示对应权重，y表示输出)：$$y=H(x,W_H)$$ \n",
    "对于Highway来说，每次的输出可以表示为: $$y=H(x,W_H)*T(x, W_T) + x*(1 - T(x, W_T))$$\n"
   ]
  },
  {
   "cell_type": "code",
   "execution_count": 1,
   "id": "e719b5bb",
   "metadata": {},
   "outputs": [],
   "source": [
    "import tensorflow as tf\n",
    "import matplotlib.pyplot as plt"
   ]
  },
  {
   "cell_type": "code",
   "execution_count": 2,
   "id": "d460908e",
   "metadata": {},
   "outputs": [],
   "source": [
    "data = tf.keras.datasets.mnist"
   ]
  },
  {
   "cell_type": "code",
   "execution_count": 3,
   "id": "8bda5f02",
   "metadata": {},
   "outputs": [],
   "source": [
    "(x_train, y_train), (x_test, y_test) = data.load_data()"
   ]
  },
  {
   "cell_type": "code",
   "execution_count": 4,
   "id": "2008389d",
   "metadata": {},
   "outputs": [],
   "source": [
    "x_train, x_test = x_train / 255.0, x_test / 255.0"
   ]
  },
  {
   "cell_type": "code",
   "execution_count": 5,
   "id": "fa67e02c",
   "metadata": {},
   "outputs": [
    {
     "data": {
      "text/plain": [
       "<matplotlib.image.AxesImage at 0x17fbe38e0>"
      ]
     },
     "execution_count": 5,
     "metadata": {},
     "output_type": "execute_result"
    },
    {
     "data": {
      "image/png": "[encoded data removed]",
      "text/plain": [
       "<Figure size 432x288 with 1 Axes>"
      ]
     },
     "metadata": {
      "needs_background": "light"
     },
     "output_type": "display_data"
    }
   ],
   "source": [
    "plt.imshow(x_train[0])"
   ]
  },
  {
   "cell_type": "code",
   "execution_count": 6,
   "id": "9a4ecbfa",
   "metadata": {},
   "outputs": [
    {
     "data": {
      "text/plain": [
       "(60000, 784)"
      ]
     },
     "execution_count": 6,
     "metadata": {},
     "output_type": "execute_result"
    }
   ],
   "source": [
    "(x_train, y_train), (x_test, y_test) = data.load_data()\n",
    "x_train = x_train.reshape(-1, 784).astype(\"float32\") / 255\n",
    "x_test = x_test.reshape(-1, 784).astype(\"float32\") / 255\n",
    "x_train.shape"
   ]
  },
  {
   "cell_type": "code",
   "execution_count": 9,
   "id": "cce72412",
   "metadata": {},
   "outputs": [],
   "source": [
    "import tensorflow as tf\n",
    "\n",
    "class HighwayLayer(tf.keras.layers.Layer):\n",
    "    def __init__(self, units, t_bias):\n",
    "        super(HighwayLayer, self).__init__()\n",
    "        self.units = units # 定义输出单元个数\n",
    "        self.t_bias = t_bias\n",
    "        self.activationT = tf.nn.relu\n",
    "        self.activationH = tf.nn.sigmoid\n",
    "\n",
    "    def build(self, input_shape):\n",
    "        print(input_shape[-1])\n",
    "        self.W_H = self.add_weight(name=\"w_H\", \n",
    "            shape=(input_shape[-1], self.units), initializer=\"random_normal\", trainable = True\n",
    "        ) # 添加激活函数H的权重\n",
    "        self.W_T = self.add_weight(name=\"w_T\",\n",
    "            shape=(input_shape[-1], self.units), initializer=\"random_normal\", trainable = True\n",
    "        ) # 添加激活函数T的权重\n",
    "        self.b_H = self.add_weight(name=\"b\", shape=(self.units,), initializer=\"random_normal\", trainable=True)\n",
    "        self.b_T = tf.Variable(tf.constant(self.t_bias, shape=self.units), name='bias', trainable=True, dtype=tf.float32)\n",
    "\n",
    "\n",
    "    def call(self, inputs):\n",
    "        h = self.activationH(tf.matmul(inputs, self.W_H) + self.b_H)\n",
    "        t = self.activationT(tf.matmul(inputs, self.W_T) + self.b_T)\n",
    "        y = tf.add(tf.multiply(h, t) , tf.multiply(inputs, (1 - t)))\n",
    "        return y\n",
    "\n",
    "class HighwayNetwork(tf.keras.Model):\n",
    "    def __init__(self, t_bias = -3.0, num_classes=10, num_of_layers=3): #这里对于激活函数t来说，论文给出的误差值为-1或-3\n",
    "        super(HighwayNetwork, self).__init__()\n",
    "        self.projection = tf.keras.layers.Dense(128)\n",
    "        self.mlplayers = [HighwayLayer(128, t_bias=t_bias) for _ in range(num_of_layers)]\n",
    "        self.classifier = tf.keras.layers.Dense(num_classes, activation='softmax')\n",
    "\n",
    "    def call(self, x):\n",
    "        X = self.projection(x)\n",
    "        for layer in self.mlplayers:\n",
    "            X = layer(X)\n",
    "        y = self.classifier(X)\n",
    "        return y"
   ]
  },
  {
   "cell_type": "code",
   "execution_count": 10,
   "id": "2bb09d58",
   "metadata": {},
   "outputs": [],
   "source": [
    "model = HighwayNetwork()"
   ]
  },
  {
   "cell_type": "code",
   "execution_count": 11,
   "id": "da10e7a3",
   "metadata": {},
   "outputs": [],
   "source": [
    "model.compile(optimizer='adam', loss=\"sparse_categorical_crossentropy\",metrics='accuracy')"
   ]
  },
  {
   "cell_type": "code",
   "execution_count": 12,
   "id": "eb7b1c58",
   "metadata": {},
   "outputs": [
    {
     "name": "stdout",
     "output_type": "stream",
     "text": [
      "Epoch 1/10\n"
     ]
    },
    {
     "name": "stderr",
     "output_type": "stream",
     "text": [
      "2022-05-31 22:00:50.480269: W tensorflow/core/platform/profile_utils/cpu_utils.cc:128] Failed to get CPU frequency: 0 Hz\n"
     ]
    },
    {
     "name": "stdout",
     "output_type": "stream",
     "text": [
      "128\n",
      "128\n",
      "128\n",
      "1875/1875 [==============================] - 3s 1ms/step - loss: 0.3477 - accuracy: 0.9002\n",
      "Epoch 2/10\n",
      "1875/1875 [==============================] - 3s 1ms/step - loss: 0.2286 - accuracy: 0.9341\n",
      "Epoch 3/10\n",
      "1875/1875 [==============================] - 3s 1ms/step - loss: 0.1732 - accuracy: 0.9497\n",
      "Epoch 4/10\n",
      "1875/1875 [==============================] - 3s 1ms/step - loss: 0.1297 - accuracy: 0.9627\n",
      "Epoch 5/10\n",
      "1875/1875 [==============================] - 3s 1ms/step - loss: 0.1067 - accuracy: 0.9684\n",
      "Epoch 6/10\n",
      "1875/1875 [==============================] - 3s 2ms/step - loss: 0.0924 - accuracy: 0.9718\n",
      "Epoch 7/10\n",
      "1875/1875 [==============================] - 3s 1ms/step - loss: 0.0835 - accuracy: 0.9751\n",
      "Epoch 8/10\n",
      "1875/1875 [==============================] - 3s 1ms/step - loss: 0.0739 - accuracy: 0.9776\n",
      "Epoch 9/10\n",
      "1875/1875 [==============================] - 3s 1ms/step - loss: 0.0634 - accuracy: 0.9809\n",
      "Epoch 10/10\n",
      "1875/1875 [==============================] - 3s 1ms/step - loss: 0.0630 - accuracy: 0.9812\n"
     ]
    },
    {
     "data": {
      "text/plain": [
       "<keras.callbacks.History at 0x28d139b20>"
      ]
     },
     "execution_count": 12,
     "metadata": {},
     "output_type": "execute_result"
    }
   ],
   "source": [
    "model.fit(x_train, y_train,epochs=10)"
   ]
  },
  {
   "cell_type": "code",
   "execution_count": 13,
   "id": "78cf1425",
   "metadata": {},
   "outputs": [
    {
     "name": "stdout",
     "output_type": "stream",
     "text": [
      "Model: \"highway_network_1\"\n",
      "_________________________________________________________________\n",
      " Layer (type)                Output Shape              Param #   \n",
      "=================================================================\n",
      " dense_1 (Dense)             multiple                  100480    \n",
      "                                                                 \n",
      " highway_layer_1 (HighwayLay  multiple                 33024     \n",
      " er)                                                             \n",
      "                                                                 \n",
      " highway_layer_2 (HighwayLay  multiple                 33024     \n",
      " er)                                                             \n",
      "                                                                 \n",
      " highway_layer_3 (HighwayLay  multiple                 33024     \n",
      " er)                                                             \n",
      "                                                                 \n",
      " dense_2 (Dense)             multiple                  1290      \n",
      "                                                                 \n",
      "=================================================================\n",
      "Total params: 200,842\n",
      "Trainable params: 200,842\n",
      "Non-trainable params: 0\n",
      "_________________________________________________________________\n"
     ]
    }
   ],
   "source": [
    "model.summary()"
   ]
  },
  {
   "cell_type": "code",
   "execution_count": 14,
   "id": "d3fde7fb",
   "metadata": {},
   "outputs": [
    {
     "name": "stdout",
     "output_type": "stream",
     "text": [
      "313/313 [==============================] - 0s 592us/step - loss: 0.1113 - accuracy: 0.9701\n"
     ]
    },
    {
     "data": {
      "text/plain": [
       "[0.11131760478019714, 0.9700999855995178]"
      ]
     },
     "execution_count": 14,
     "metadata": {},
     "output_type": "execute_result"
    }
   ],
   "source": [
    "model.evaluate(x_test, y_test)"
   ]
  },
  {
   "cell_type": "code",
   "execution_count": null,
   "id": "16786498",
   "metadata": {},
   "outputs": [],
   "source": []
  }
 ],
 "metadata": {
  "interpreter": {
   "hash": "6b671ac3065736559540f6dc201cc1625e81f27220913c9557fbf21ca8bb9325"
  },
  "kernelspec": {
   "display_name": "Python 3.9.12 ('base')",
   "language": "python",
   "name": "python3"
  },
  "language_info": {
   "codemirror_mode": {
    "name": "ipython",
    "version": 3
   },
   "file_extension": ".py",
   "mimetype": "text/x-python",
   "name": "python",
   "nbconvert_exporter": "python",
   "pygments_lexer": "ipython3",
   "version": "3.9.12"
  },
  "latex_envs": {
   "LaTeX_envs_menu_present": true,
   "autoclose": false,
   "autocomplete": true,
   "bibliofile": "biblio.bib",
   "cite_by": "apalike",
   "current_citInitial": 1,
   "eqLabelWithNumbers": true,
   "eqNumInitial": 1,
   "hotkeys": {
    "equation": "Ctrl-E",
    "itemize": "Ctrl-I"
   },
   "labels_anchors": false,
   "latex_user_defs": false,
   "report_style_numbering": false,
   "user_envs_cfg": false
  },
  "toc": {
   "base_numbering": 1,
   "nav_menu": {},
   "number_sections": true,
   "sideBar": true,
   "skip_h1_title": false,
   "title_cell": "Table of Contents",
   "title_sidebar": "Contents",
   "toc_cell": false,
   "toc_position": {},
   "toc_section_display": true,
   "toc_window_display": false
  }
 },
 "nbformat": 4,
 "nbformat_minor": 5
}
