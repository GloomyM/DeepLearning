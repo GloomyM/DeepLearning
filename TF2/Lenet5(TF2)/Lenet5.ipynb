{
 "cells": [
  {
   "cell_type": "markdown",
   "id": "3100b465",
   "metadata": {},
   "source": [
    "# Tensorflow 实现数字识别"
   ]
  },
  {
   "cell_type": "code",
   "execution_count": 2,
   "id": "052283d3",
   "metadata": {},
   "outputs": [],
   "source": [
    "import numpy as np\n",
    "import tensorflow as tf\n",
    "from PIL import Image\n",
    "import matplotlib.pyplot as plt"
   ]
  },
  {
   "cell_type": "code",
   "execution_count": 4,
   "id": "458cdb88",
   "metadata": {},
   "outputs": [
    {
     "name": "stdout",
     "output_type": "stream",
     "text": [
      "(60000, 28, 28)\n"
     ]
    }
   ],
   "source": [
    "(x_train, y_train), (x_test, y_test) =  tf.keras.datasets.mnist.load_data()\n",
    "print(x_train.shape)"
   ]
  },
  {
   "cell_type": "code",
   "execution_count": 4,
   "id": "1407a2f0",
   "metadata": {},
   "outputs": [
    {
     "data": {
      "text/plain": [
       "<matplotlib.image.AxesImage at 0x17ad454c0>"
      ]
     },
     "execution_count": 4,
     "metadata": {},
     "output_type": "execute_result"
    },
    {
     "data": {
      "image/png": "[encoded data removed]",
      "text/plain": [
       "<Figure size 432x288 with 4 Axes>"
      ]
     },
     "metadata": {
      "needs_background": "light"
     },
     "output_type": "display_data"
    }
   ],
   "source": [
    "plt.subplot(221)\n",
    "plt.imshow(x_train[0])\n",
    "plt.subplot(222)\n",
    "plt.imshow(x_train[1])\n",
    "plt.subplot(223)\n",
    "plt.imshow(x_train[2])\n",
    "plt.subplot(224)\n",
    "plt.imshow(x_train[3])"
   ]
  },
  {
   "cell_type": "code",
   "execution_count": 5,
   "id": "9673c4a0",
   "metadata": {},
   "outputs": [],
   "source": [
    "x_train, x_test = x_train / 255.0, x_test / 255.0"
   ]
  },
  {
   "cell_type": "markdown",
   "id": "c9e0a1be",
   "metadata": {},
   "source": [
    "## 普通神经网络"
   ]
  },
  {
   "cell_type": "code",
   "execution_count": 6,
   "id": "a8d6100f",
   "metadata": {},
   "outputs": [],
   "source": [
    "nnModel = tf.keras.models.Sequential([tf.keras.layers.Flatten(), \n",
    "tf.keras.layers.Dense(128, activation='relu'), tf.keras.layers.Dense(10, activation='softmax')]) \n",
    "# 三层分别是输入层，隐藏层和输出层，隐藏层使用的激活函数是relu，输出层使用的是softmax函数(10个输出)\n",
    "nnModel.compile(optimizer='adam', loss='sparse_categorical_crossentropy',metrics='sparse_categorical_accuracy')"
   ]
  },
  {
   "cell_type": "code",
   "execution_count": 52,
   "id": "3497d78d",
   "metadata": {},
   "outputs": [
    {
     "name": "stdout",
     "output_type": "stream",
     "text": [
      "Epoch 1/20\n",
      "1875/1875 [==============================] - 1s 657us/step - loss: 0.2665 - sparse_categorical_accuracy: 0.9236\n",
      "Epoch 2/20\n",
      "1875/1875 [==============================] - 1s 609us/step - loss: 0.1174 - sparse_categorical_accuracy: 0.9646\n",
      "Epoch 3/20\n",
      "1875/1875 [==============================] - 1s 613us/step - loss: 0.0808 - sparse_categorical_accuracy: 0.9760\n",
      "Epoch 4/20\n",
      "1875/1875 [==============================] - 1s 627us/step - loss: 0.0617 - sparse_categorical_accuracy: 0.9813\n",
      "Epoch 5/20\n",
      "1875/1875 [==============================] - 1s 603us/step - loss: 0.0488 - sparse_categorical_accuracy: 0.9843\n",
      "Epoch 6/20\n",
      "1875/1875 [==============================] - 1s 597us/step - loss: 0.0378 - sparse_categorical_accuracy: 0.9879\n",
      "Epoch 7/20\n",
      "1875/1875 [==============================] - 1s 655us/step - loss: 0.0306 - sparse_categorical_accuracy: 0.9902\n",
      "Epoch 8/20\n",
      "1875/1875 [==============================] - 1s 665us/step - loss: 0.0247 - sparse_categorical_accuracy: 0.9924\n",
      "Epoch 9/20\n",
      "1875/1875 [==============================] - 1s 659us/step - loss: 0.0200 - sparse_categorical_accuracy: 0.9940\n",
      "Epoch 10/20\n",
      "1875/1875 [==============================] - 1s 609us/step - loss: 0.0174 - sparse_categorical_accuracy: 0.9946\n",
      "Epoch 11/20\n",
      "1875/1875 [==============================] - 1s 631us/step - loss: 0.0133 - sparse_categorical_accuracy: 0.9962\n",
      "Epoch 12/20\n",
      "1875/1875 [==============================] - 1s 682us/step - loss: 0.0120 - sparse_categorical_accuracy: 0.9962\n",
      "Epoch 13/20\n",
      "1875/1875 [==============================] - 1s 669us/step - loss: 0.0111 - sparse_categorical_accuracy: 0.9968\n",
      "Epoch 14/20\n",
      "1875/1875 [==============================] - 1s 714us/step - loss: 0.0083 - sparse_categorical_accuracy: 0.9975\n",
      "Epoch 15/20\n",
      "1875/1875 [==============================] - 1s 624us/step - loss: 0.0086 - sparse_categorical_accuracy: 0.9972\n",
      "Epoch 16/20\n",
      "1875/1875 [==============================] - 1s 611us/step - loss: 0.0082 - sparse_categorical_accuracy: 0.9974\n",
      "Epoch 17/20\n",
      "1875/1875 [==============================] - 1s 596us/step - loss: 0.0067 - sparse_categorical_accuracy: 0.9979\n",
      "Epoch 18/20\n",
      "1875/1875 [==============================] - 1s 653us/step - loss: 0.0066 - sparse_categorical_accuracy: 0.9979\n",
      "Epoch 19/20\n",
      "1875/1875 [==============================] - 1s 719us/step - loss: 0.0060 - sparse_categorical_accuracy: 0.9982\n",
      "Epoch 20/20\n",
      "1875/1875 [==============================] - 1s 595us/step - loss: 0.0060 - sparse_categorical_accuracy: 0.9981\n"
     ]
    },
    {
     "data": {
      "text/plain": [
       "<keras.callbacks.History at 0x138a92040>"
      ]
     },
     "execution_count": 52,
     "metadata": {},
     "output_type": "execute_result"
    }
   ],
   "source": [
    "nnModel.fit(x_train, y_train, epochs=20) # 训练数据集迭代20次"
   ]
  },
  {
   "cell_type": "code",
   "execution_count": 53,
   "id": "3ca3555d",
   "metadata": {},
   "outputs": [
    {
     "name": "stdout",
     "output_type": "stream",
     "text": [
      "313/313 [==============================] - 0s 410us/step - loss: 0.1165 - sparse_categorical_accuracy: 0.9774\n"
     ]
    }
   ],
   "source": [
    "loss, acc = nnModel.evaluate(x_test, y_test) # 评估测试集，损失+正确率"
   ]
  },
  {
   "cell_type": "code",
   "execution_count": 54,
   "id": "2413d34f",
   "metadata": {},
   "outputs": [
    {
     "name": "stdout",
     "output_type": "stream",
     "text": [
      "Loss is 0.1164616122841835\n",
      "Accuracy is 0.977400004863739\n"
     ]
    }
   ],
   "source": [
    "print(\"Loss is {}\".format(loss))\n",
    "print(\"Accuracy is {}\".format(acc))"
   ]
  },
  {
   "cell_type": "markdown",
   "id": "7c9f814d",
   "metadata": {},
   "source": [
    "## Tensorflow2.0实现LeNet-5网络\n",
    "\n",
    "第一层\n",
    "\n",
    "    卷积层：大小 -> 5*5*1, 过滤器个数 -> 6, 激活函数 -> sigmoid, padding -> same\n",
    "\n",
    "    池化层：大小 -> 2*2*1,  步幅 -> 2\n",
    "    \n",
    "第二层：\n",
    "\n",
    "    卷积层：大小 -> 16*16*1, 过滤器个数 -> 6, 激活函数 -> sigmoid, padding -> same\n",
    "\n",
    "    池化层：大小 -> 2*2*1,  步幅 -> 2\n",
    "\n",
    "第三层：\n",
    "\n",
    "    卷积后的结果输出为向量\n",
    "\n",
    "第四层：\n",
    "\n",
    "    全链接层：120个神经元 + sigmoid激活函数\n",
    "\n",
    "第五层：\n",
    "\n",
    "    全链接层：84个神经元 + sigmoid激活函数\n",
    "\n",
    "第六层：\n",
    "\n",
    "    输出层：使用softmax激活函数输出，大小为10\n",
    "    "
   ]
  },
  {
   "cell_type": "code",
   "execution_count": 6,
   "id": "402abe27",
   "metadata": {},
   "outputs": [
    {
     "name": "stdout",
     "output_type": "stream",
     "text": [
      "Epoch 1/20\n"
     ]
    },
    {
     "name": "stderr",
     "output_type": "stream",
     "text": [
      "2022-05-23 16:31:31.438558: W tensorflow/core/platform/profile_utils/cpu_utils.cc:128] Failed to get CPU frequency: 0 Hz\n"
     ]
    },
    {
     "name": "stdout",
     "output_type": "stream",
     "text": [
      "1875/1875 [==============================] - 11s 6ms/step - loss: 0.7113 - sparse_categorical_accuracy: 0.7687\n",
      "Epoch 2/20\n",
      "1875/1875 [==============================] - 11s 6ms/step - loss: 0.1342 - sparse_categorical_accuracy: 0.9589\n",
      "Epoch 3/20\n",
      "1875/1875 [==============================] - 11s 6ms/step - loss: 0.0907 - sparse_categorical_accuracy: 0.9715\n",
      "Epoch 4/20\n",
      "1875/1875 [==============================] - 11s 6ms/step - loss: 0.0696 - sparse_categorical_accuracy: 0.9784\n",
      "Epoch 5/20\n",
      "1875/1875 [==============================] - 12s 6ms/step - loss: 0.0566 - sparse_categorical_accuracy: 0.9819\n",
      "Epoch 6/20\n",
      "1875/1875 [==============================] - 12s 7ms/step - loss: 0.0471 - sparse_categorical_accuracy: 0.9850\n",
      "Epoch 7/20\n",
      "1875/1875 [==============================] - 12s 6ms/step - loss: 0.0412 - sparse_categorical_accuracy: 0.9868\n",
      "Epoch 8/20\n",
      "1875/1875 [==============================] - 11s 6ms/step - loss: 0.0362 - sparse_categorical_accuracy: 0.9887\n",
      "Epoch 9/20\n",
      "1875/1875 [==============================] - 11s 6ms/step - loss: 0.0307 - sparse_categorical_accuracy: 0.9902\n",
      "Epoch 10/20\n",
      "1875/1875 [==============================] - 11s 6ms/step - loss: 0.0259 - sparse_categorical_accuracy: 0.9914\n",
      "Epoch 11/20\n",
      "1875/1875 [==============================] - 11s 6ms/step - loss: 0.0239 - sparse_categorical_accuracy: 0.9922\n",
      "Epoch 12/20\n",
      "1875/1875 [==============================] - 12s 6ms/step - loss: 0.0196 - sparse_categorical_accuracy: 0.9938\n",
      "Epoch 13/20\n",
      "1875/1875 [==============================] - 12s 6ms/step - loss: 0.0179 - sparse_categorical_accuracy: 0.9941\n",
      "Epoch 14/20\n",
      "1875/1875 [==============================] - 11s 6ms/step - loss: 0.0150 - sparse_categorical_accuracy: 0.9952\n",
      "Epoch 15/20\n",
      "1875/1875 [==============================] - 11s 6ms/step - loss: 0.0123 - sparse_categorical_accuracy: 0.9959\n",
      "Epoch 16/20\n",
      "1875/1875 [==============================] - 11s 6ms/step - loss: 0.0116 - sparse_categorical_accuracy: 0.9963\n",
      "Epoch 17/20\n",
      "1875/1875 [==============================] - 11s 6ms/step - loss: 0.0100 - sparse_categorical_accuracy: 0.9967\n",
      "Epoch 18/20\n",
      "1875/1875 [==============================] - 11s 6ms/step - loss: 0.0084 - sparse_categorical_accuracy: 0.9972\n",
      "Epoch 19/20\n",
      "1875/1875 [==============================] - 12s 6ms/step - loss: 0.0083 - sparse_categorical_accuracy: 0.9973\n",
      "Epoch 20/20\n",
      "1875/1875 [==============================] - 12s 6ms/step - loss: 0.0073 - sparse_categorical_accuracy: 0.9976\n"
     ]
    },
    {
     "data": {
      "text/plain": [
       "<keras.callbacks.History at 0x15dd50e80>"
      ]
     },
     "execution_count": 6,
     "metadata": {},
     "output_type": "execute_result"
    }
   ],
   "source": [
    "lenet5 = tf.keras.Sequential([\n",
    "tf.keras.layers.Conv2D(filters=6, kernel_size=5, activation='sigmoid', input_shape=(28, 28, 1), padding='same'),\n",
    "tf.keras.layers.MaxPool2D(pool_size=2, strides=2),\n",
    "tf.keras.layers.Conv2D(filters=16, kernel_size=6, activation='sigmoid', padding='same'),\n",
    "tf.keras.layers.MaxPool2D(pool_size=2, strides=2),\n",
    "tf.keras.layers.Flatten(),\n",
    "tf.keras.layers.Dense(120, activation='sigmoid'),\n",
    "tf.keras.layers.Dense(84, activation='sigmoid'),\n",
    "tf.keras.layers.Dense(10, activation='softmax')\n",
    "])\n",
    "lenet5.compile(optimizer='adam', loss='sparse_categorical_crossentropy',metrics='sparse_categorical_accuracy') # 使用adam算法优化，交叉熵计算损失\n",
    "lenet5.fit(x_train, y_train, epochs=20) # 迭代20次"
   ]
  },
  {
   "cell_type": "code",
   "execution_count": 7,
   "id": "16a7435e",
   "metadata": {},
   "outputs": [
    {
     "name": "stdout",
     "output_type": "stream",
     "text": [
      "313/313 [==============================] - 1s 3ms/step - loss: 0.0358 - sparse_categorical_accuracy: 0.9897\n",
      "Loss is 0.03579775616526604\n",
      "Accuracy is 0.9897000193595886\n"
     ]
    }
   ],
   "source": [
    "loss, acc = lenet5.evaluate(x_test, y_test)\n",
    "print('Loss is {}'.format(loss))\n",
    "print('Accuracy is {}'.format(acc))"
   ]
  },
  {
   "cell_type": "code",
   "execution_count": null,
   "id": "77ff2f71",
   "metadata": {},
   "outputs": [],
   "source": []
  }
 ],
 "metadata": {
  "interpreter": {
   "hash": "6b671ac3065736559540f6dc201cc1625e81f27220913c9557fbf21ca8bb9325"
  },
  "kernelspec": {
   "display_name": "Python 3 (ipykernel)",
   "language": "python",
   "name": "python3"
  },
  "language_info": {
   "codemirror_mode": {
    "name": "ipython",
    "version": 3
   },
   "file_extension": ".py",
   "mimetype": "text/x-python",
   "name": "python",
   "nbconvert_exporter": "python",
   "pygments_lexer": "ipython3",
   "version": "3.9.12"
  },
  "latex_envs": {
   "LaTeX_envs_menu_present": true,
   "autoclose": false,
   "autocomplete": true,
   "bibliofile": "biblio.bib",
   "cite_by": "apalike",
   "current_citInitial": 1,
   "eqLabelWithNumbers": true,
   "eqNumInitial": 1,
   "hotkeys": {
    "equation": "Ctrl-E",
    "itemize": "Ctrl-I"
   },
   "labels_anchors": false,
   "latex_user_defs": false,
   "report_style_numbering": false,
   "user_envs_cfg": false
  },
  "toc": {
   "base_numbering": 1,
   "nav_menu": {},
   "number_sections": true,
   "sideBar": true,
   "skip_h1_title": false,
   "title_cell": "Table of Contents",
   "title_sidebar": "Contents",
   "toc_cell": false,
   "toc_position": {},
   "toc_section_display": true,
   "toc_window_display": false
  }
 },
 "nbformat": 4,
 "nbformat_minor": 5
}
